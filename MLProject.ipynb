{
  "nbformat": 4,
  "nbformat_minor": 0,
  "metadata": {
    "colab": {
      "provenance": [],
      "mount_file_id": "1FUzWGz7EZSUYUJ7j2kJ0-xBgzipFoRXb",
      "authorship_tag": "ABX9TyPCaDSDCLQhCu4Ur4AZlo3j",
      "include_colab_link": true
    },
    "kernelspec": {
      "name": "python3",
      "display_name": "Python 3"
    },
    "language_info": {
      "name": "python"
    }
  },
  "cells": [
    {
      "cell_type": "markdown",
      "metadata": {
        "id": "view-in-github",
        "colab_type": "text"
      },
      "source": [
        "<a href=\"https://colab.research.google.com/github/JoannaKHughes/Lab4/blob/main/MLProject.ipynb\" target=\"_parent\"><img src=\"https://colab.research.google.com/assets/colab-badge.svg\" alt=\"Open In Colab\"/></a>"
      ]
    },
    {
      "cell_type": "markdown",
      "source": [
        "Prof advice:\n",
        "\n",
        "\n",
        "* Make our own data set: do ~610 fraud and and add 600 legit emails from Zenodo data and add 10 emails from our own inboxes that are legit\n",
        "* find P, A, R, F for if we ONLY use KNN, for if we ONLY use BT, for if we use ensemble for BOTH.\n",
        "* Create table/bargraph to show those three ^ as well as the mean/avg of them\n",
        "* Train and find (separetly) for both the navario_5.csv and dataset we created\n",
        "* Make bar graphs, one for Navario_5 and one for self created dataset (graph to show precision, acuracy, F and R)"
      ],
      "metadata": {
        "id": "3mEfSDxKGrGm"
      }
    },
    {
      "cell_type": "code",
      "execution_count": null,
      "metadata": {
        "id": "GlkUQVQk_O9x"
      },
      "outputs": [],
      "source": [
        "# Load libraries\n",
        "import pandas as pd\n",
        "from sklearn.tree import DecisionTreeClassifier # Import Decision Tree Classifier\n",
        "from sklearn.neighbors import KNeighborsClassifier # Import Knearest classifier\n",
        "from sklearn.linear_model import LogisticRegression # Import Logistic regression for ensemble\n",
        "from sklearn.model_selection import train_test_split # Import train_test_split function\n",
        "from sklearn import metrics #Import scikit-learn metrics module for accuracy calculation\n",
        "from sklearn.ensemble import StackingClassifier\n",
        "from sklearn.datasets import load_iris\n",
        "from sklearn.metrics import accuracy_score\n",
        "from google.colab import files\n",
        "\n",
        "col_names = ['sender', 'receiver', 'date', 'subject', 'body', 'url', 'label']\n",
        "# load dataset\n",
        "data = pd.read_csv(\"/content/Nazario_5.csv\", header=None, names=col_names)\n",
        "\n",
        "# Assume that the first column is the feature and the second column is the target\n",
        "X = data.iloc[:, :-1]\n",
        "y = data.iloc[:, -1]\n",
        "\n",
        "###From Geeksforgeeks\n",
        "# computing number of rows\n",
        "rows = len(data.axes[0])\n",
        "\n",
        "# computing number of columns\n",
        "cols = len(data.axes[1])\n",
        "\n",
        "#print(\"Number of Rows: \", rows)\n",
        "#print(\"Number of Columns: \", cols)\n",
        "\n",
        "#print the first few\n",
        "print(data.head());\n",
        "\n"
      ]
    },
    {
      "cell_type": "markdown",
      "source": [
        "Dataset: https://zenodo.org/records/8339691\n",
        "\n",
        "Code above: https://www.datacamp.com/tutorial/decision-tree-classification-python\n",
        "*   Loads libraries\n",
        "*   Reads dataset\n",
        "*   Labels columns within data\n",
        "\n",
        "\n",
        "Tested - data print out\n",
        "\n",
        "Nazario data set:\n",
        "\n",
        "* Contains ~3000 emails: 300 legit & 2,700 fraud //NOT EQUAL FIX LATER\n",
        "\n",
        "* Contains the following catagories: 'sender', 'receiver', 'date', 'subject', 'body', 'url'\n",
        "\n",
        "\n",
        "\n",
        "\n",
        "\n"
      ],
      "metadata": {
        "id": "V7dJFG0dDoj0"
      }
    },
    {
      "cell_type": "code",
      "source": [
        "# Split dataset into training set and test set\n",
        "X_train, X_test, y_train, y_test = train_test_split(X, y, test_size=0.3, random_state=1) # 70% training and 30% test\n"
      ],
      "metadata": {
        "id": "dUQt-aWkEJJw"
      },
      "execution_count": null,
      "outputs": []
    },
    {
      "cell_type": "markdown",
      "source": [
        "* This code uses the train_test_split function from the sklearn.model_selection module to split a dataset into a training set and a test set.\n",
        "* The X and y variables represent the features and target variable of the dataset, respectively.\n",
        "* The test_size parameter is set to 0.3, which means that 30% of the data will be used for testing and 70% will be used for training.\n",
        "* The random_state parameter is set to 1, which ensures that the same random split is generated each time the code is run.\n",
        "* The function returns four arrays: X_train, X_test, y_train, and y_test.\n",
        "* These arrays can be used to train and evaluate a machine learning model."
      ],
      "metadata": {
        "id": "BQ_ffa4rFjFk"
      }
    },
    {
      "cell_type": "code",
      "source": [
        "# Create Decision Tree classifer object\n",
        "dt = DecisionTreeClassifier()\n",
        "\n",
        "# Creat K nearest classifier\n",
        "knn = KNeighborsClassifier()\n",
        "\n",
        "# Train Decision Tree Classifer\n",
        "dt = dt.fit(X_train,y_train)\n",
        "\n",
        "#Predict the response for test dataset\n",
        "y_pred = dt.predict(X_test)\n"
      ],
      "metadata": {
        "id": "rOOS2zAbF80_"
      },
      "execution_count": null,
      "outputs": []
    },
    {
      "cell_type": "markdown",
      "source": [
        "* Creates a decision tree classifier object using the DecisionTreeClassifier() function.\n",
        "* Then, it trains the classifier using the fit() method with the training data X_train and y_train.\n",
        "* Finally, it uses the trained classifier to predict the response for the test dataset X_test and stores the predictions in y_pred."
      ],
      "metadata": {
        "id": "JUlf1ko5GDKw"
      }
    },
    {
      "cell_type": "code",
      "source": [
        "# Model Accuracy, how often is the classifier correct?\n",
        "print(\"Accuracy:\",metrics.accuracy_score(y_test, y_pred))"
      ],
      "metadata": {
        "id": "6UcxJIkhGKp_"
      },
      "execution_count": null,
      "outputs": []
    },
    {
      "cell_type": "markdown",
      "source": [
        "Combine models with ensemble - [Reference](https://aryanbajaj13.medium.com/ensemble-models-how-to-make-better-predictions-by-combining-multiple-models-with-python-codes-6ac54403414e)"
      ],
      "metadata": {
        "id": "ESb3ScbqThFD"
      }
    },
    {
      "cell_type": "code",
      "source": [
        "# Create a stacking ensemble\n",
        "stack = StackingClassifier(estimators=[('dt', dt), ('knn', knn)], final_estimator=LogisticRegression())\n",
        "\n",
        "# Fit ensemble on data\n",
        "stack.fit()\n",
        "\n",
        "# Make predictions\n",
        "y_pred = stack.predict(X)\n",
        "\n",
        "# Evaluate performance\n",
        "acc = accuracy_score(y, y_pred)\n",
        "acc = acc*100\n",
        "print(f'Accuracy: {acc:.2f} %')"
      ],
      "metadata": {
        "id": "PxaFTUlFTgy5"
      },
      "execution_count": null,
      "outputs": []
    }
  ]
}